{
 "cells": [
  {
   "cell_type": "raw",
   "id": "ed5e9d28",
   "metadata": {},
   "source": [
    "(c)2019 Josh Faber, please consider this either GPL or CC-BY-SA as far as licensing goes.\n",
    "Original code in C++, adapted in jupyter notebook."
   ]
  },
  {
   "cell_type": "code",
   "execution_count": 2,
   "id": "5064a4df",
   "metadata": {},
   "outputs": [
    {
     "name": "stdout",
     "output_type": "stream",
     "text": [
      "790521600000000.1\n",
      "790521600000000.1\n"
     ]
    }
   ],
   "source": [
    "## Parameters for NS with polytropic EOS // TODO switch to take M1 M2 K Gam as input\n",
    "Gam_EOS = 2.0     # polytropic index Gamma\n",
    "K_EOS = 100       # polytropic const K\n",
    "rho_c = 1.28e-3   \n",
    "\n",
    "\n",
    "print(rho_c * 6.17595e17)\n",
    "sep_PNevo = 90 #km\n",
    "sep_final = 45  #km\n",
    "\n",
    "#filename = \"gam_{:.3f}.dat\".format(Gam_EOS)\n",
    "\n"
   ]
  },
  {
   "cell_type": "code",
   "execution_count": 3,
   "id": "b94dae63",
   "metadata": {},
   "outputs": [],
   "source": []
  },
  {
   "cell_type": "code",
   "execution_count": 2,
   "id": "0c35727e",
   "metadata": {},
   "outputs": [],
   "source": [
    "import numpy as np\n",
    "\n",
    "m_sun     = 1.98847e33; #g\n",
    "km        = 1.0e5;\n",
    "ggrav     = 6.67408e-8;\n",
    "clight    = 2.99792e10;\n",
    "Rsch_sun  = ggrav*m_sun/clight**2;\n",
    "\n",
    "PI = np.pi;\n",
    "\n",
    "class TOV:\n",
    "    def __init__(self, K_EOS, Gam_EOS, rho_c):\n",
    "        self.K_EOS = K_EOS\n",
    "        self.Gam_EOS = Gam_EOS\n",
    "        self.rho_c = rho_c\n",
    "        self.n_EOS = 1/(self.Gam_EOS - 1)\n",
    "        \n",
    "        self.M_star  = 0\n",
    "        self.R_star  = 0\n",
    "        self.Mb_star = 0\n",
    "        self.log_enth = 0\n",
    "        \n",
    "    # rho is the rest mass\n",
    "    def P_EOS(self, rho):\n",
    "        return self.K_EOS * pow(rho, self.Gam_EOS)\n",
    "    \n",
    "    def eps_EOS(self, rho): \n",
    "        return self.K_EOS * pow(rho, self.Gam_EOS-1) / (self.Gam_EOS-1)\n",
    "    \n",
    "    def dPdrho_EOS(self, rho):\n",
    "        return self.K_EOS * pow(rho, self.Gam_EOS-1) * self.Gam_EOS\n",
    "    \n",
    "    def rho_EOS(self, P):\n",
    "        return pow(P/self.K_EOS, 1.0/self.Gam_EOS)\n",
    "    \n",
    "       \n",
    "    def d_arr (self, th, arr):\n",
    "        s,m, mb = arr[0], arr[1], arr[2]\n",
    "        \n",
    "        r = np.sqrt(s)\n",
    "        rho = self.rho_c * th**self.n_EOS\n",
    "        \n",
    "        P      = self.P_EOS(rho)\n",
    "        dPdrho = self.dPdrho_EOS(rho)\n",
    "        eps    = self.eps_EOS(rho)\n",
    "        \n",
    "        ds_dth  = -2*self.n_EOS/m/th*r*r*r*dPdrho*(1-2*m/r)/((1+eps)+P/rho)/(1+4*PI*r*r*r*P/m)\n",
    "        dm_dth  = 2*PI*r*rho*ds_dth*(1+eps)\n",
    "        dmb_dth = 2*PI*r*rho*ds_dth/(1-2*m/r)**0.5\n",
    "        return np.array([ds_dth, dm_dth, dmb_dth])\n",
    "    \n",
    "    def RK4(self, x, arr, dx):\n",
    "        k1 = self.d_arr(x     , arr          )\n",
    "        k2 = self.d_arr(x+dx/2, arr + k1*dx/2)\n",
    "        k3 = self.d_arr(x+dx/2, arr + k2*dx/2)\n",
    "        k4 = self.d_arr(x+dx  , arr + k3*dx  )\n",
    "        arr_new = arr + (k1 + 2*k2 + 2*k3 + k4)*dx/6\n",
    "        return arr_new\n",
    "    \n",
    "    def solve_TOV_th(self, step):\n",
    "        rho_c = self.rho_c # rho_c = 1.28e-3\n",
    "        # step = 1000\n",
    "        P_c       = self.P_EOS(rho_c)\n",
    "        eps_c     = self.eps_EOS(rho_c)\n",
    "        dPdrho_c  = self.dPdrho_EOS(rho_c)\n",
    "        \n",
    "        self.log_enth = np.log(1+eps_c+P_c/rho_c)\n",
    "        \n",
    "        \n",
    "        th_arr = np.linspace(1.0,(1e-10)**(1/self.n_EOS),step,endpoint = False)\n",
    "        # th_arr = np.logspace(0,-10/self.n_EOS,step)\n",
    "        \n",
    "        d_th = th_arr[1] - th_arr[0]\n",
    "        \n",
    "        s_arr  = np.zeros_like(th_arr)\n",
    "        m_arr  = np.zeros_like(th_arr)\n",
    "        mb_arr = np.zeros_like(th_arr)\n",
    "        \n",
    "        rho_tot_c = rho_c *(1 + eps_c)\n",
    "        \n",
    "        m_r3 = 4*PI/3*(rho_tot_c)\n",
    "        s = (-3*self.n_EOS/(2*PI*rho_tot_c) * dPdrho_c / ((1+eps_c+P_c/rho_c) * (1+3*P_c/rho_tot_c)))*d_th\n",
    "        m = m_r3 * s**1.5\n",
    "        mb = 4*PI/3*(rho_c)*s**1.5\n",
    "        \n",
    "        arr = np.array([s,m,mb])\n",
    "        for i in range(step-1):\n",
    "            arr = self.RK4(th_arr[i],arr,th_arr[i+1]-th_arr[i])\n",
    "            \n",
    "        \n",
    "        self.R_star = arr[0]**0.5\n",
    "        self.M_star = arr[1]\n",
    "        self.Mb_star = arr[2]\n",
    "        \n",
    "        print(\"K={:f} Gam={:f} rho_c={:e} log_enth={:f}\".format(self.K_EOS, self.Gam_EOS, self.rho_c, self.log_enth))\n",
    "        R, M, Mb = self.R_star, self.M_star, self.Mb_star\n",
    "        print(\"R  = {:<10f} = {:<10e} km\".format(R , R*Rsch_sun/km))\n",
    "        print(\"M  = {:<10f} = {:<10e} g \".format(M , M*m_sun      ))\n",
    "        print(\"Mb = {:<10f} = {:<10e} g \".format(Mb, Mb*m_sun     ))\n",
    "        print(R,M/1.476,Mb/1.476)\n",
    "              \n",
    "              "
   ]
  },
  {
   "cell_type": "code",
   "execution_count": 3,
   "id": "3581bd9b",
   "metadata": {},
   "outputs": [
    {
     "name": "stdout",
     "output_type": "stream",
     "text": [
      "K=123.641000 Gam=2.000000 rho_c=1.009561e-03 log_enth=0.222861\n",
      "R  = 10.711552  = 1.581695e+01 km\n",
      "M  = 1.543142   = 3.068491e+33 g \n",
      "Mb = 1.658456   = 3.297790e+33 g \n",
      "10.711552133687311 1.0454891003931768 1.123615269190021\n"
     ]
    }
   ],
   "source": [
    "NS = TOV(123.641, 2, 6.235e14 / 6.17595e17)\n",
    "NS.solve_TOV_th(10000)"
   ]
  },
  {
   "cell_type": "code",
   "execution_count": 22,
   "id": "85f529a9",
   "metadata": {},
   "outputs": [
    {
     "name": "stdout",
     "output_type": "stream",
     "text": [
      "0.004236413754155087\n",
      "K=100.000000 Gam=2.000000 rho_c=4.236414e-03 log_enth=0.613716\n",
      "R  = 7.019310   = 1.036489e+01 km\n",
      "M  = 1.615156   = 3.211689e+33 g \n",
      "Mb = 1.768786   = 3.517177e+33 g \n",
      "7.0193099965963714 1.094279093041991 1.1983643440344602\n"
     ]
    }
   ],
   "source": [
    "rho_cgs = 5.7e15\n",
    "rho_km = rho_cgs / 6.17595e17 / (1.476**2) \n",
    "print(rho_km)\n",
    "\n",
    "NS = TOV(100, 2, rho_km)\n",
    "NS.solve_TOV_th(10000)"
   ]
  },
  {
   "cell_type": "code",
   "execution_count": 19,
   "id": "1b3072bd",
   "metadata": {},
   "outputs": [
    {
     "name": "stdout",
     "output_type": "stream",
     "text": [
      "### Star 1 ###\n",
      "K=123.613315 Gam=2.000000 rho_c=1.280000e-03 log_enth=0.274939\n",
      "R  = 10.179510  = 1.503132e+01 km\n",
      "M  = 1.661850   = 3.304538e+33 g \n",
      "Mb = 1.801045   = 3.581325e+33 g \n",
      "\n",
      "### Star 2 ###\n",
      "K=123.613315 Gam=2.000000 rho_c=1.280000e-03 log_enth=0.274939\n",
      "R  = 10.179510  = 1.503132e+01 km\n",
      "M  = 1.661850   = 3.304538e+33 g \n",
      "Mb = 1.801045   = 3.581325e+33 g \n",
      "\n",
      "### coalescence ###\n",
      "Total mass = 3.323699e+00, mass ratio = 1.000000e+00\n",
      "x1  = -15.237445 = -22.500000 km\n",
      "x2  = 15.237445  = 22.500000  km\n"
     ]
    },
    {
     "data": {
      "text/plain": [
       "(-20.0, 20.0)"
      ]
     },
     "execution_count": 19,
     "metadata": {},
     "output_type": "execute_result"
    },
    {
     "data": {
      "image/png": "[encoded data removed]",
      "text/plain": [
       "<Figure size 360x144 with 1 Axes>"
      ]
     },
     "metadata": {
      "needs_background": "light"
     },
     "output_type": "display_data"
    }
   ],
   "source": [
    "print(\"### Star 1 ###\")\n",
    "NS1 = TOV(K_EOS, Gam_EOS, rho_c_1)\n",
    "NS1.solve_TOV_th(10000)\n",
    "\n",
    "print(\"\")\n",
    "\n",
    "print(\"### Star 2 ###\")\n",
    "NS2 = TOV(K_EOS, Gam_EOS, rho_c_2)\n",
    "NS2.solve_TOV_th(10000)\n",
    "\n",
    "print(\"\")\n",
    "\n",
    "print(\"### coalescence ###\")\n",
    "M1 ,  M2 = NS1.M_star ,  NS2.M_star\n",
    "R1 ,  R2 = NS1.R_star ,  NS2.R_star\n",
    "Mb1, Mb2 = NS1.Mb_star,  NS2.Mb_star\n",
    "M0, ratio = M1+M2, np.exp(np.abs(np.log(M1/M2)))\n",
    "x1 = -sep_final * M2/M0\n",
    "x2 = +sep_final * M1/M0\n",
    "\n",
    "print(\"Total mass = {:<10e}, mass ratio = {:<10e}\".format(M0, ratio))\n",
    "print(\"x1  = {:<10f} = {:<10f} km\".format(x1*km/Rsch_sun , x1)) # CarpetRegrid2::position_x_1\n",
    "print(\"x2  = {:<10f} = {:<10f} km\".format(x2*km/Rsch_sun , x2)) # CarpetRegrid2::position_x_2\n",
    "\n",
    "import matplotlib.pyplot as plt\n",
    "\n",
    "circle1 = plt.Circle((x1, 0),   R1, color='r')\n",
    "circle2 = plt.Circle((x2, 0),   R2, color='blue')\n",
    "fig, ax = plt.subplots(figsize=(5,2))\n",
    "ax.add_patch(circle1)\n",
    "ax.add_patch(circle2)\n",
    "ax.set_xlim(-50,50)\n",
    "ax.set_ylim(-20,20)"
   ]
  },
  {
   "cell_type": "code",
   "execution_count": 7,
   "id": "ed588afa",
   "metadata": {},
   "outputs": [],
   "source": [
    "\n",
    "## scale to solar mass \n",
    "def get_Lorene_units(star):\n",
    "    rns, mns = star.R_star * Rsch_sun / km, star.Mb_star\n",
    "    gamval, kappa, rho_c = star.Gam_EOS, star.K_EOS, star.rho_c\n",
    "    # Lorene dark magic begins ...\n",
    "    radlor = rns/10\n",
    "    mlor = 11.9789*mns\n",
    "    kaplor = kappa*pow(3720.8,1.0-gamval)\n",
    "    denslor = rho_c*3720.8\n",
    "    print(\"In Lorene units, we want a radius and baryon mass of \",radlor,mlor)\n",
    "\n",
    "    print(\"Lorene compactness check:\",0.0123265*mlor/radlor)\n",
    "    \n",
    "    kaplor_EOS = kaplor\n",
    "    log_enth_EOS = np.log(1.0+gamval/(gamval-1.0)*kaplor*pow(denslor,gamval-1.0))\n",
    "    print(\"Lorene kappa value:\",kaplor_EOS)\n",
    "    print(\"Lorene log enth:\", log_enth_EOS)\n",
    "    return kaplor_EOS, log_enth_EOS\n",
    "\n",
    "def Lorene_to_natural(log_enth_EOS, kaplor_EOS,Gam_EOS):\n",
    "    # Lorene dark magic begins ...\n",
    "    #radlor = rns/10\n",
    "    #mlor = 11.9789*mns\n",
    "    #print(\"In Lorene units, we want a radius and baryon mass of \",radlor,mlor)\n",
    "\n",
    "    #print(\"Lorene compactness check:\",0.0123265*mlor/radlor)\n",
    "\n",
    "    #kaplor = kappa*pow(3720.8,1.0-gamval)\n",
    "    \n",
    "    gamval = Gam_EOS\n",
    "    kappa = kaplor_EOS*pow(3720.8, gamval-1.0)\n",
    "    \n",
    "    #log_enth_EOS = np.log(1.0+gamval/(gamval-1.0)*kaplor*pow(denslor,gamval-1.0))\n",
    "    #denslor = rho_c*3720.8\n",
    "    \n",
    "    denslor = pow((np.exp(log_enth_EOS)-1)*(gamval-1.0)/gamval/kaplor_EOS,1.0/(gamval-1.0))\n",
    "    rho_c = denslor / 3720.8\n",
    "    print(\"Lorene kappa value:\",kaplor_EOS, \"-> Geometric K:\",kappa)\n",
    "    print(\"Lorene log enth:\", log_enth_EOS,\"-> Geometric rho_c:\",rho_c, \"-> SI rho_c:\",rho_c*6.17595e20)\n",
    "    \n",
    "    \n",
    "    return kappa, rho_c\n",
    "\n"
   ]
  },
  {
   "cell_type": "code",
   "execution_count": 8,
   "id": "70a1f6d7",
   "metadata": {},
   "outputs": [
    {
     "name": "stdout",
     "output_type": "stream",
     "text": [
      "Lorene kappa value: 0.0332278 -> Geometric K: 123.63399824000001\n",
      "Lorene log enth: 0.212414 -> Geometric rho_c: 0.0009570982077014966 -> SI rho_c: 5.910990675854058e+17\n",
      "### Star test ###\n",
      "K=123.633998 Gam=2.000000 rho_c=9.570982e-04 log_enth=0.212414\n",
      "R  = 10.825422  = 1.598509e+01 km\n",
      "M  = 1.512936   = 3.008429e+33 g \n",
      "Mb = 1.622770   = 3.226829e+33 g \n"
     ]
    }
   ],
   "source": [
    "# G2_I14vs14_D4R33_45km\n",
    "Gam_EOS = 2.0\n",
    "K_EOS, rho_c = Lorene_to_natural(0.212414, 0.0332278, 2.0)\n",
    "\n",
    "print(\"### Star test ###\")\n",
    "NS = TOV(K_EOS, Gam_EOS, rho_c)\n",
    "NS.solve_TOV_th(10000)"
   ]
  },
  {
   "cell_type": "code",
   "execution_count": 11,
   "id": "b647b37e",
   "metadata": {},
   "outputs": [
    {
     "name": "stdout",
     "output_type": "stream",
     "text": [
      "Lorene kappa value: 0.0332278 -> Geometric K: 123.63399824000001\n",
      "Lorene log enth: 0.168359 -> Geometric rho_c: 0.0007415491035614626 -> SI rho_c: 4.579770186140415e+17\n",
      "### Star test ###\n",
      "K=123.633998 Gam=2.000000 rho_c=7.415491e-04 log_enth=0.168359\n",
      "R  = 11.340094  = 1.674507e+01 km\n",
      "M  = 1.356543   = 2.697445e+33 g \n",
      "Mb = 1.441093   = 2.865570e+33 g \n"
     ]
    }
   ],
   "source": [
    "# G2_I12vs12_D4R33T21_45km\n",
    "Gam_EOS = 2.0\n",
    "K_EOS, rho_c = Lorene_to_natural(0.168359, 0.0332278, 2.0)\n",
    "\n",
    "print(\"### Star test ###\")\n",
    "NS = TOV(K_EOS, Gam_EOS, rho_c)\n",
    "NS.solve_TOV_th(100000)"
   ]
  },
  {
   "cell_type": "code",
   "execution_count": 10,
   "id": "018dd343",
   "metadata": {},
   "outputs": [
    {
     "name": "stdout",
     "output_type": "stream",
     "text": [
      "In Lorene units, we want a radius and baryon mass of  1.50313246310407 21.574542667404433\n",
      "Lorene compactness check: 0.17692293042529306\n",
      "Lorene kappa value: 0.03322224105723312\n",
      "Lorene log enth: 0.2749387844507323\n",
      "In Lorene units, we want a radius and baryon mass of  1.50313246310407 21.574542667404433\n",
      "Lorene compactness check: 0.17692293042529306\n",
      "Lorene kappa value: 0.03322224105723312\n",
      "Lorene log enth: 0.2749387844507323\n"
     ]
    }
   ],
   "source": [
    "kaplor_1, log_enth_1 = get_Lorene_units(NS1)\n",
    "kaplor_2, log_enth_2 = get_Lorene_units(NS2)"
   ]
  },
  {
   "cell_type": "code",
   "execution_count": 9,
   "id": "6aa61a10",
   "metadata": {},
   "outputs": [
    {
     "name": "stdout",
     "output_type": "stream",
     "text": [
      "Modify  parcoal.d\n",
      "Read:  /home/bt22824/Lorene/Codes/Bin_star/Parameters/Polytrope_irrot/Test_GR/\n",
      "Out:   /home/bt22824/Lorene/Codes/Bin_star/Parameters/Polytrope_irrot/ratio_1.27/\n",
      "# Parameters for the binary equilibrium computation by coal\n",
      "###################################################################\n",
      "ini.d\n",
      "0.5 fact_separ : Factor by which the initial separation is multiplied\n",
      "1.5062343336682078 mbar_voulue[0] : Baryon mass required for star 1 [M_sol]\n",
      "1.5062343336682078 mbar_voulue[1] : Baryon mass required for star 2 [M_sol]\n",
      "###################################################################\n",
      "400 mermax : Maximum number of steps in the main iteration\n",
      "0.5 relax : Relaxation factor in the main iteration\n",
      "1 mermax_eqb : Maximum number of steps in Etoile_bin::equilibrium\n",
      "1 prompt : 1 if no pause during the computation\n",
      "0 graph : 1 if graphical outputs during the computation\n",
      "1.E-6 seuil : Threshold on the enthalpy relative change for ending the computation\n",
      "2 fmer_stop : Step interval between pauses in the main iteration\n",
      "5 fmer_save : Step interval between safeguards of the whole configuration\n",
      "4 mermax_poisson : Maximum number of steps in Map_et::poisson\n",
      "1.5 relax_poisson : Relaxation factor in Map_et::poisson\n",
      "4 mermax_potvit : Maximum number of steps in Map_radial::poisson_compact\n",
      "0.5 relax_potvit : Relaxation factor in Map_radial::poisson_compact\n",
      "3000 mer_masse : Step from which the baryon mass is forced to converge\n",
      "0.5 aexp_masse : Exponent for the increase factor of the central enthalpy\n",
      "8 fmer_udp_met : Step interval between metric updates\n",
      "1 ind_rel_met : 1 if relaxation of the metric, 0 if not\n",
      "0.65 relax_met : Relaxation factor of the metric (used only if ind_rel_met=1)\n",
      "0.75 relax_omeg : Relaxation factor on Omega (orbital angular velocity)\n",
      "0.7 fact_omeg_min : fact_omeg_min * omega = low bound in the omega search\n",
      "1.3 fact_omeg_max : fact_omeg_max * omega = high bound in the omega search\n",
      "0. thres_adapt1 : threshold on dH/dr for the adaptation of the mapping in star 1\n",
      "0. thres_adapt2 : threshold on dH/dr for the adaptation of the mapping in star 2\n",
      "0.6 reduce_shift : factor by which the initial analytical shift is reduced\n",
      "\n",
      "Modify  par_eos1.d\n",
      "Read:  /home/bt22824/Lorene/Codes/Bin_star/Parameters/Polytrope_irrot/Test_GR/\n",
      "Out:   /home/bt22824/Lorene/Codes/Bin_star/Parameters/Polytrope_irrot/ratio_1.27/\n",
      "1 Type of the EOS (cf. documentation of Eos::eos_from_file)\n",
      "Star 1 EOS\n",
      "2.0 adiabatic index gamma\n",
      "0.02687594065792303 pressure coefficient kappa [rho_nuc c^2 / n_nuc^gamma]\n",
      "1. mean particle mass [m_b]2\n",
      "\n",
      "\n",
      "\n",
      "Modify  par_eos2.d\n",
      "Read:  /home/bt22824/Lorene/Codes/Bin_star/Parameters/Polytrope_irrot/Test_GR/\n",
      "Out:   /home/bt22824/Lorene/Codes/Bin_star/Parameters/Polytrope_irrot/ratio_1.27/\n",
      "1 Type of the EOS (cf. documentation of Eos::eos_from_file)\n",
      "Star 1 EOS\n",
      "2.0 adiabatic index gamma\n",
      "0.02687594065792303 pressure coefficient kappa [rho_nuc c^2 / n_nuc^gamma]\n",
      "1. mean particle mass [m_b]2\n",
      "\n",
      "\n",
      "\n",
      "Modify  par_init.d\n",
      "Read:  /home/bt22824/Lorene/Codes/Bin_star/Parameters/Polytrope_irrot/Test_GR/\n",
      "Out:   /home/bt22824/Lorene/Codes/Bin_star/Parameters/Polytrope_irrot/ratio_1.27/\n",
      "# Physical parameters for the binary initial conditions\n",
      "#######################################################\n",
      "1 <- 1 for a relativistic computation, 0 for a Newtonian one\n",
      "90 <- coordinate distance between the two stellar centers [km]\n",
      "0.22793206804600694 <- initial central enthalpy of star 1\n",
      "1 <- rotational state of star 1 : 1 = irrotational, 0 = corotating\n",
      "0.22793206804600694 <- initial central enthalpy of star 2\n",
      "1 <- rotational state of star 2 : 1 = irrotational, 0 = corotating\n",
      "\n",
      "\n",
      "Modify  par_grid1.d\n",
      "Read:  /home/bt22824/Lorene/Codes/Bin_star/Parameters/Polytrope_irrot/Test_GR/\n",
      "Out:   /home/bt22824/Lorene/Codes/Bin_star/Parameters/Polytrope_irrot/ratio_1.27/\n",
      "# Multi-grid parameters\n",
      "#######################\n",
      "4 nz: total number of domains\n",
      "1 nzet: number of domains inside the star\n",
      "7 nt: number of points in theta (the same in each domain)\n",
      "4 np: number of points in phi (the same in each domain)\n",
      "# Number of points in r and (initial) inner boundary of each domain:\n",
      "33 0. <- nr & min(r) in domain 0 (nucleus)\n",
      "33 1. <- nr & min(r) in domain 1\n",
      "33 1.5 <- nr & min(r) in domain 2\n",
      "33 2.5 <- nr & min(r) in domain 2\n",
      "\n",
      "\n",
      "\n",
      "Modify  par_grid2.d\n",
      "Read:  /home/bt22824/Lorene/Codes/Bin_star/Parameters/Polytrope_irrot/Test_GR/\n",
      "Out:   /home/bt22824/Lorene/Codes/Bin_star/Parameters/Polytrope_irrot/ratio_1.27/\n",
      "# Multi-grid parameters\n",
      "#######################\n",
      "4 nz: total number of domains\n",
      "1 nzet: number of domains inside the star\n",
      "7 nt: number of points in theta (the same in each domain)\n",
      "4 np: number of points in phi (the same in each domain)\n",
      "# Number of points in r and (initial) inner boundary of each domain:\n",
      "33 0. <- nr & min(r) in domain 0 (nucleus)\n",
      "33 1. <- nr & min(r) in domain 1\n",
      "33 1.5 <- nr & min(r) in domain 2\n",
      "33 2.5 <- nr & min(r) in domain 2\n",
      "\n",
      "\n",
      "\n"
     ]
    }
   ],
   "source": [
    "def modify_file(filename, conditions):\n",
    "    print(\"Modify \", filename)\n",
    "    print(\"Read: \", template_dir)\n",
    "    print(\"Out:  \", dfile_dir)\n",
    "    file_r = open(template_dir + filename,'r')\n",
    "    file_lines = file_r.readlines()\n",
    "    file_r.close()\n",
    "\n",
    "    def list_to_str(list_):\n",
    "        _str = \"\"\n",
    "        for elem in list_:\n",
    "            _str += str(elem) + \" \"\n",
    "        ## do not include the space at the end\n",
    "        return _str[:-1]\n",
    "\n",
    "    file_w = open(dfile_dir + filename, 'w+')\n",
    "    for line in file_lines:\n",
    "        elem = line.split()\n",
    "        if(len(elem) > 1):\n",
    "            for (idx, name, param) in conditions:\n",
    "                if(elem[idx] == name):\n",
    "                    elem[0] = param\n",
    "        file_w.write(list_to_str(elem)+ \"\\n\")\n",
    "        print(list_to_str(elem))\n",
    "    file_w.close()\n",
    "    print(\"\")\n",
    "    \n",
    "modify_file(\"parcoal.d\",[(1,\"mbar_voulue[0]\",Mb1),(1,\"mbar_voulue[1]\",Mb2),(1,\"fact_separ\",sep_final/sep_PNevo)])\n",
    "modify_file(\"par_eos1.d\",[(1,\"adiabatic\",Gam_EOS),(1,\"pressure\",kaplor_1)])\n",
    "modify_file(\"par_eos2.d\",[(1,\"adiabatic\",Gam_EOS),(1,\"pressure\",kaplor_2)])\n",
    "modify_file(\"par_init.d\",[(7,\"1\",log_enth_1),(7,\"2\",log_enth_2),(2,\"coordinate\",sep_PNevo)])\n",
    "modify_file(\"par_grid1.d\",[(1,\"nt\",25),(1,\"np\",21),(1,\"0.\",33),(1,\"1.\",33),(1,\"1.5\",33),(1,\"2.5\",33)])\n",
    "modify_file(\"par_grid2.d\",[(1,\"nt\",25),(1,\"np\",21),(1,\"0.\",33),(1,\"1.\",33),(1,\"1.5\",33),(1,\"2.5\",33)])"
   ]
  },
  {
   "cell_type": "code",
   "execution_count": 10,
   "id": "c7bbf018",
   "metadata": {},
   "outputs": [],
   "source": [
    "#TODO: make .rpar file"
   ]
  },
  {
   "cell_type": "code",
   "execution_count": null,
   "id": "0719ef9a",
   "metadata": {},
   "outputs": [],
   "source": []
  },
  {
   "cell_type": "code",
   "execution_count": null,
   "id": "fe4c909c",
   "metadata": {},
   "outputs": [],
   "source": []
  },
  {
   "cell_type": "code",
   "execution_count": null,
   "id": "d4a3707c",
   "metadata": {},
   "outputs": [],
   "source": []
  }
 ],
 "metadata": {
  "kernelspec": {
   "display_name": "Python 3 (ipykernel)",
   "language": "python",
   "name": "python3"
  },
  "language_info": {
   "codemirror_mode": {
    "name": "ipython",
    "version": 3
   },
   "file_extension": ".py",
   "mimetype": "text/x-python",
   "name": "python",
   "nbconvert_exporter": "python",
   "pygments_lexer": "ipython3",
   "version": "3.8.16"
  }
 },
 "nbformat": 4,
 "nbformat_minor": 5
}
