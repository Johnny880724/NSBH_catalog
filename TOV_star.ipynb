{
 "cells": [
  {
   "cell_type": "raw",
   "id": "ed5e9d28",
   "metadata": {},
   "source": [
    "(c)2019 Josh Faber, please consider this either GPL or CC-BY-SA as far as licensing goes.\n",
    "Original code in C++, adapted in jupyter notebook."
   ]
  },
  {
   "cell_type": "code",
   "execution_count": 10,
   "id": "5064a4df",
   "metadata": {},
   "outputs": [
    {
     "name": "stdout",
     "output_type": "stream",
     "text": [
      "central density in SI units : 790521600000000.1\n"
     ]
    }
   ],
   "source": [
    "## Parameters for NS with polytropic EOS // TODO switch to take M1 M2 K Gam as input\n",
    "Gam_EOS = 2.0     # polytropic index Gamma  P = K * rho^Gamma\n",
    "K_EOS = 100       # polytropic const K\n",
    "rho_c = 1.28e-3   # central density\n",
    "\n",
    "print(\"central density in SI units :\",rho_c * 6.17595e17)\n"
   ]
  },
  {
   "cell_type": "code",
   "execution_count": 3,
   "id": "b94dae63",
   "metadata": {},
   "outputs": [],
   "source": []
  },
  {
   "cell_type": "code",
   "execution_count": 2,
   "id": "0c35727e",
   "metadata": {},
   "outputs": [],
   "source": [
    "import numpy as np\n",
    "\n",
    "m_sun     = 1.98847e33; #g\n",
    "km        = 1.0e5;\n",
    "ggrav     = 6.67408e-8;\n",
    "clight    = 2.99792e10;\n",
    "Rsch_sun  = ggrav*m_sun/clight**2;\n",
    "\n",
    "PI = np.pi;\n",
    "\n",
    "class TOV:\n",
    "    def __init__(self, K_EOS, Gam_EOS, rho_c):\n",
    "        self.K_EOS = K_EOS\n",
    "        self.Gam_EOS = Gam_EOS\n",
    "        self.rho_c = rho_c\n",
    "        self.n_EOS = 1/(self.Gam_EOS - 1)\n",
    "        \n",
    "        self.M_star  = 0  # Gravitational mass\n",
    "        self.R_star  = 0  # Radius\n",
    "        self.Mb_star = 0  # Baryonic mass\n",
    "        self.log_enth = 0 # log(enthalpy)\n",
    "        \n",
    "    # rho is the rest mass\n",
    "    def P_EOS(self, rho):\n",
    "        return self.K_EOS * pow(rho, self.Gam_EOS)\n",
    "    \n",
    "    def eps_EOS(self, rho): \n",
    "        return self.K_EOS * pow(rho, self.Gam_EOS-1) / (self.Gam_EOS-1)\n",
    "    \n",
    "    def dPdrho_EOS(self, rho):\n",
    "        return self.K_EOS * pow(rho, self.Gam_EOS-1) * self.Gam_EOS\n",
    "    \n",
    "    def rho_EOS(self, P):\n",
    "        return pow(P/self.K_EOS, 1.0/self.Gam_EOS)\n",
    "    \n",
    "    \n",
    "    # derivative functions\n",
    "    # s  = r^2\n",
    "    # m  = gravitational mass\n",
    "    # mb = baryonic mass\n",
    "    def d_arr (self, th, arr):\n",
    "        s,m, mb = arr[0], arr[1], arr[2]\n",
    "        \n",
    "        r = np.sqrt(s)\n",
    "        rho = self.rho_c * th**self.n_EOS\n",
    "        \n",
    "        P      = self.P_EOS(rho)\n",
    "        dPdrho = self.dPdrho_EOS(rho)\n",
    "        eps    = self.eps_EOS(rho)\n",
    "        \n",
    "        ds_dth  = -2*self.n_EOS/m/th*r*r*r*dPdrho*(1-2*m/r)/((1+eps)+P/rho)/(1+4*PI*r*r*r*P/m)\n",
    "        dm_dth  = 2*PI*r*rho*ds_dth*(1+eps)\n",
    "        dmb_dth = 2*PI*r*rho*ds_dth/(1-2*m/r)**0.5\n",
    "        return np.array([ds_dth, dm_dth, dmb_dth])\n",
    "    \n",
    "    # Runge-Kutta 4-th order method\n",
    "    def RK4(self, x, arr, dx):\n",
    "        k1 = self.d_arr(x     , arr          )\n",
    "        k2 = self.d_arr(x+dx/2, arr + k1*dx/2)\n",
    "        k3 = self.d_arr(x+dx/2, arr + k2*dx/2)\n",
    "        k4 = self.d_arr(x+dx  , arr + k3*dx  )\n",
    "        arr_new = arr + (k1 + 2*k2 + 2*k3 + k4)*dx/6\n",
    "        return arr_new\n",
    "    \n",
    "    # main iterative methods for TOV solver\n",
    "    def solve_TOV_th(self, step):\n",
    "        rho_c = self.rho_c\n",
    "        \n",
    "        P_c       = self.P_EOS(rho_c)\n",
    "        eps_c     = self.eps_EOS(rho_c)\n",
    "        dPdrho_c  = self.dPdrho_EOS(rho_c)\n",
    "        \n",
    "        self.log_enth = np.log(1+eps_c+P_c/rho_c)\n",
    "        \n",
    "        # integrated array theta\n",
    "        # theta goes from [1,0] from core to surface\n",
    "        # avoid singularity on the surface choose 1e-10**1/n as last step\n",
    "        th_arr = np.linspace(1.0,(1e-10)**(1/self.n_EOS),step,endpoint = False)\n",
    "        \n",
    "        d_th = th_arr[1] - th_arr[0]\n",
    "        \n",
    "        s_arr  = np.zeros_like(th_arr)\n",
    "        m_arr  = np.zeros_like(th_arr)\n",
    "        mb_arr = np.zeros_like(th_arr)\n",
    "        \n",
    "        rho_tot_c = rho_c *(1 + eps_c)\n",
    "        \n",
    "        m_r3 = 4*PI/3*(rho_tot_c)\n",
    "        s = (-3*self.n_EOS/(2*PI*rho_tot_c) * dPdrho_c / ((1+eps_c+P_c/rho_c) * (1+3*P_c/rho_tot_c)))*d_th\n",
    "        m = m_r3 * s**1.5\n",
    "        mb = 4*PI/3*(rho_c)*s**1.5\n",
    "        \n",
    "        arr = np.array([s,m,mb])\n",
    "        for i in range(step-1):\n",
    "            arr = self.RK4(th_arr[i],arr,th_arr[i+1]-th_arr[i])\n",
    "            \n",
    "        \n",
    "        self.R_star = arr[0]**0.5\n",
    "        self.M_star = arr[1]\n",
    "        self.Mb_star = arr[2]\n",
    "        \n",
    "        print(\"K={:f} Gam={:f} rho_c={:e} log_enth={:f}\".format(self.K_EOS, self.Gam_EOS, self.rho_c, self.log_enth))\n",
    "        R, M, Mb = self.R_star, self.M_star, self.Mb_star\n",
    "        print(\"R  = {:<10f} = {:<10e} km\".format(R , R*Rsch_sun/km))\n",
    "        print(\"M  = {:<10f} = {:<10e} g \".format(M , M*m_sun      ))\n",
    "        print(\"Mb = {:<10f} = {:<10e} g \".format(Mb, Mb*m_sun     ))\n",
    "        print(R,M/1.476,Mb/1.476)\n",
    "              \n",
    "              "
   ]
  },
  {
   "cell_type": "code",
   "execution_count": 3,
   "id": "3581bd9b",
   "metadata": {},
   "outputs": [
    {
     "name": "stdout",
     "output_type": "stream",
     "text": [
      "K=123.641000 Gam=2.000000 rho_c=1.009561e-03 log_enth=0.222861\n",
      "R  = 10.711552  = 1.581695e+01 km\n",
      "M  = 1.543142   = 3.068491e+33 g \n",
      "Mb = 1.658456   = 3.297790e+33 g \n",
      "10.711552133687311 1.0454891003931768 1.123615269190021\n"
     ]
    }
   ],
   "source": [
    "NS = TOV(123.641, 2, 6.235e14 / 6.17595e17)\n",
    "NS.solve_TOV_th(10000)"
   ]
  },
  {
   "cell_type": "code",
   "execution_count": 22,
   "id": "85f529a9",
   "metadata": {},
   "outputs": [
    {
     "name": "stdout",
     "output_type": "stream",
     "text": [
      "0.004236413754155087\n",
      "K=100.000000 Gam=2.000000 rho_c=4.236414e-03 log_enth=0.613716\n",
      "R  = 7.019310   = 1.036489e+01 km\n",
      "M  = 1.615156   = 3.211689e+33 g \n",
      "Mb = 1.768786   = 3.517177e+33 g \n",
      "7.0193099965963714 1.094279093041991 1.1983643440344602\n"
     ]
    }
   ],
   "source": [
    "rho_cgs = 5.7e15\n",
    "rho_km = rho_cgs / 6.17595e17 / (1.476**2) \n",
    "print(rho_km)\n",
    "\n",
    "NS = TOV(100, 2, rho_km)\n",
    "NS.solve_TOV_th(10000)"
   ]
  },
  {
   "cell_type": "code",
   "execution_count": 6,
   "id": "1b3072bd",
   "metadata": {},
   "outputs": [
    {
     "name": "stdout",
     "output_type": "stream",
     "text": [
      "### Star 1 ###\n",
      "K=100.000000 Gam=2.000000 rho_c=1.280000e-03 log_enth=0.227932\n",
      "R  = 9.584239   = 1.415233e+01 km\n",
      "M  = 1.400209   = 2.784273e+33 g \n",
      "Mb = 1.506234   = 2.995102e+33 g \n",
      "9.58423937219602 0.9486508147972765 1.02048396589987\n",
      "\n",
      "### Star 2 ###\n",
      "K=100.000000 Gam=2.000000 rho_c=1.280000e-03 log_enth=0.227932\n",
      "R  = 9.584239   = 1.415233e+01 km\n",
      "M  = 1.400209   = 2.784273e+33 g \n",
      "Mb = 1.506234   = 2.995102e+33 g \n",
      "9.58423937219602 0.9486508147972765 1.02048396589987\n",
      "\n",
      "### coalescence ###\n",
      "Total mass = 2.800417e+00, mass ratio = 1.000000e+00\n",
      "x1  = -15.237445 = -22.500000 km\n",
      "x2  = 15.237445  = 22.500000  km\n"
     ]
    },
    {
     "data": {
      "text/plain": [
       "(-20.0, 20.0)"
      ]
     },
     "execution_count": 6,
     "metadata": {},
     "output_type": "execute_result"
    },
    {
     "data": {
      "image/png": "[encoded data removed]",
      "text/plain": [
       "<Figure size 500x200 with 1 Axes>"
      ]
     },
     "metadata": {},
     "output_type": "display_data"
    }
   ],
   "source": [
    "# parameters\n",
    "\n",
    "rho_c_1 = 1.28e-3\n",
    "\n",
    "rho_c_2 = 1.28e-3\n",
    "\n",
    "sep_PNevo = 90 #km\n",
    "sep_final = 45  #km\n",
    "\n",
    "#########################\n",
    "\n",
    "print(\"### Star 1 ###\")\n",
    "NS1 = TOV(K_EOS, Gam_EOS, rho_c_1)\n",
    "NS1.solve_TOV_th(10000)\n",
    "\n",
    "print(\"\")\n",
    "\n",
    "print(\"### Star 2 ###\")\n",
    "NS2 = TOV(K_EOS, Gam_EOS, rho_c_2)\n",
    "NS2.solve_TOV_th(10000)\n",
    "\n",
    "print(\"\")\n",
    "\n",
    "print(\"### coalescence ###\")\n",
    "M1 ,  M2 = NS1.M_star ,  NS2.M_star\n",
    "R1 ,  R2 = NS1.R_star ,  NS2.R_star\n",
    "Mb1, Mb2 = NS1.Mb_star,  NS2.Mb_star\n",
    "M0, ratio = M1+M2, np.exp(np.abs(np.log(M1/M2)))\n",
    "x1 = -sep_final * M2/M0\n",
    "x2 = +sep_final * M1/M0\n",
    "\n",
    "print(\"Total mass = {:<10e}, mass ratio = {:<10e}\".format(M0, ratio))\n",
    "print(\"x1  = {:<10f} = {:<10f} km\".format(x1*km/Rsch_sun , x1)) # CarpetRegrid2::position_x_1\n",
    "print(\"x2  = {:<10f} = {:<10f} km\".format(x2*km/Rsch_sun , x2)) # CarpetRegrid2::position_x_2\n",
    "\n",
    "import matplotlib.pyplot as plt\n",
    "\n",
    "circle1 = plt.Circle((x1, 0),   R1, color='r')\n",
    "circle2 = plt.Circle((x2, 0),   R2, color='blue')\n",
    "fig, ax = plt.subplots(figsize=(5,2))\n",
    "ax.add_patch(circle1)\n",
    "ax.add_patch(circle2)\n",
    "ax.set_xlim(-50,50)\n",
    "ax.set_ylim(-20,20)"
   ]
  },
  {
   "cell_type": "code",
   "execution_count": 7,
   "id": "ed588afa",
   "metadata": {},
   "outputs": [],
   "source": []
  },
  {
   "cell_type": "code",
   "execution_count": null,
   "id": "70a1f6d7",
   "metadata": {},
   "outputs": [],
   "source": []
  },
  {
   "cell_type": "code",
   "execution_count": null,
   "id": "b647b37e",
   "metadata": {},
   "outputs": [],
   "source": []
  },
  {
   "cell_type": "code",
   "execution_count": null,
   "id": "018dd343",
   "metadata": {},
   "outputs": [],
   "source": []
  },
  {
   "cell_type": "code",
   "execution_count": null,
   "id": "6aa61a10",
   "metadata": {},
   "outputs": [],
   "source": []
  },
  {
   "cell_type": "code",
   "execution_count": null,
   "id": "c7bbf018",
   "metadata": {},
   "outputs": [],
   "source": []
  },
  {
   "cell_type": "code",
   "execution_count": null,
   "id": "0719ef9a",
   "metadata": {},
   "outputs": [],
   "source": []
  },
  {
   "cell_type": "code",
   "execution_count": null,
   "id": "fe4c909c",
   "metadata": {},
   "outputs": [],
   "source": []
  },
  {
   "cell_type": "code",
   "execution_count": null,
   "id": "d4a3707c",
   "metadata": {},
   "outputs": [],
   "source": []
  }
 ],
 "metadata": {
  "kernelspec": {
   "display_name": "Python 3 (ipykernel)",
   "language": "python",
   "name": "python3"
  },
  "language_info": {
   "codemirror_mode": {
    "name": "ipython",
    "version": 3
   },
   "file_extension": ".py",
   "mimetype": "text/x-python",
   "name": "python",
   "nbconvert_exporter": "python",
   "pygments_lexer": "ipython3",
   "version": "3.8.16"
  }
 },
 "nbformat": 4,
 "nbformat_minor": 5
}
